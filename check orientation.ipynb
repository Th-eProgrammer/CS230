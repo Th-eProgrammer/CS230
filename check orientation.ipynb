{
 "cells": [
  {
   "cell_type": "code",
   "execution_count": 34,
   "metadata": {},
   "outputs": [],
   "source": [
    "import sys\n",
    "import os\n",
    "from pprint import pprint\n",
    "import gdcm\n",
    "import pydicom as dicom\n",
    "import pylab\n",
    "import numpy as np"
   ]
  },
  {
   "cell_type": "code",
   "execution_count": 59,
   "metadata": {},
   "outputs": [],
   "source": [
    "# for root, subdirs, files in os.walk(os.path.join(os.getenv('HOME'), 'FetalLung')):\n",
    "dims = []\n",
    "for root, subdirs, files in os.walk('/home/mazin/FetalLung/FetalLungAbnormal'):\n",
    "#     print(root)\n",
    "    if not files:\n",
    "        continue\n",
    "    for file in files:\n",
    "        if not file.endswith('.dcm'):\n",
    "            continue\n",
    "#         print(file)\n",
    "        dim, orient = dims_and_orient(os.path.join(root, file))\n",
    "        dims.append(dim)     \n",
    "npdims = np.array(dims)"
   ]
  },
  {
   "cell_type": "code",
   "execution_count": null,
   "metadata": {},
   "outputs": [],
   "source": []
  },
  {
   "cell_type": "code",
   "execution_count": 53,
   "metadata": {},
   "outputs": [],
   "source": [
    "dims\n",
    "npdims = np.array(dims)"
   ]
  },
  {
   "cell_type": "code",
   "execution_count": 54,
   "metadata": {},
   "outputs": [
    {
     "name": "stdout",
     "output_type": "stream",
     "text": [
      "[[    64     59]\n",
      " [    66      5]\n",
      " [    86      7]\n",
      " [   128    211]\n",
      " [   256  10536]\n",
      " [   512 122646]]\n"
     ]
    }
   ],
   "source": []
  },
  {
   "cell_type": "code",
   "execution_count": 60,
   "metadata": {},
   "outputs": [],
   "source": [
    "npdims1 = npdims"
   ]
  },
  {
   "cell_type": "code",
   "execution_count": null,
   "metadata": {},
   "outputs": [],
   "source": []
  },
  {
   "cell_type": "code",
   "execution_count": 58,
   "metadata": {},
   "outputs": [
    {
     "name": "stdout",
     "output_type": "stream",
     "text": [
      "[[    64     59]\n",
      " [    66      5]\n",
      " [    86      7]\n",
      " [   128    211]\n",
      " [   256  10536]\n",
      " [   512 122646]]\n",
      "[[    13      3]\n",
      " [    25      4]\n",
      " [    49      2]\n",
      " [    61      3]\n",
      " [    64     59]\n",
      " [   128    211]\n",
      " [   256  10536]\n",
      " [   512 122646]]\n"
     ]
    },
    {
     "data": {
      "text/plain": [
       "12"
      ]
     },
     "execution_count": 58,
     "metadata": {},
     "output_type": "execute_result"
    }
   ],
   "source": [
    "unique, counts = np.unique(npdims[:,0], return_counts=True)\n",
    "print np.asarray((unique, counts)).T\n",
    "\n",
    "unique, counts = np.unique(npdims[:,1], return_counts=True)\n",
    "print np.asarray((unique, counts)).T\n",
    "\n",
    "sum(npdims[:,0] != npdims[:,1])"
   ]
  },
  {
   "cell_type": "code",
   "execution_count": null,
   "metadata": {},
   "outputs": [],
   "source": []
  },
  {
   "cell_type": "code",
   "execution_count": null,
   "metadata": {},
   "outputs": [],
   "source": []
  },
  {
   "cell_type": "code",
   "execution_count": 27,
   "metadata": {},
   "outputs": [
    {
     "data": {
      "text/plain": [
       "((512, 512), 'AXIAL')"
      ]
     },
     "execution_count": 27,
     "metadata": {},
     "output_type": "execute_result"
    }
   ],
   "source": [
    "file = \"/home/mazin/FetalLung/FetalLungAbnormal/patient/LC20151230256/AX SSFSExr BODY/IM-0921-0001-d.dcm\"\n",
    "file = \"/home/mazin/FetalLung/FetalLungAbnormal/patient/LC2584563/SAG SSFSE BODY/IM-0602-0023-d.dcm\"\n",
    "\n",
    "def dims_and_orient(file):\n",
    "    r = gdcm.ImageReader()\n",
    "    r.SetFileName(file)\n",
    "    if not r.Read():\n",
    "      sys.exit(1)\n",
    "    ir = r.GetImage()\n",
    "\n",
    "    # dimensions\n",
    "    dims = ir.GetDimensions()\n",
    "#     print(ir.GetDimension(0))\n",
    "#     print(ir.GetDimension(1))\n",
    "#     print(\"Dims:\",dims)\n",
    "\n",
    "    # orientation\n",
    "    dircos =  ir.GetDirectionCosines()\n",
    "    t = gdcm.Orientation.GetType(tuple(dircos))\n",
    "    l = gdcm.Orientation.GetLabel(t)\n",
    "#     print(\"Orientation label:\",l)\n",
    "    \n",
    "    return tuple(dims), l\n",
    "    \n",
    "dims_and_orient(file)"
   ]
  },
  {
   "cell_type": "code",
   "execution_count": 28,
   "metadata": {},
   "outputs": [],
   "source": [
    "file = \"/home/mazin/FetalLung/FetalLungAbnormal/patient/LC20151230256/AX SSFSExr BODY/IM-0921-0001-d.dcm\"\n",
    "def view_dicom(file):\n",
    "    ds = dicom.read_file(file)\n",
    "    pix = ds.pixel_array\n",
    "\n",
    "    pylab.imshow(ds.pixel_array, cmap=pylab.cm.bone)\n",
    "    # pylab.imshow(ds.pixel_array)\n",
    "    pylab.show()\n",
    "    # plt.imsave('test.png', ds.pixel_array, cmap=pylab.cm.bone)\n"
   ]
  },
  {
   "cell_type": "code",
   "execution_count": null,
   "metadata": {},
   "outputs": [],
   "source": []
  }
 ],
 "metadata": {
  "kernelspec": {
   "display_name": "Python 2",
   "language": "python",
   "name": "python2"
  },
  "language_info": {
   "codemirror_mode": {
    "name": "ipython",
    "version": 2
   },
   "file_extension": ".py",
   "mimetype": "text/x-python",
   "name": "python",
   "nbconvert_exporter": "python",
   "pygments_lexer": "ipython2",
   "version": "2.7.14"
  }
 },
 "nbformat": 4,
 "nbformat_minor": 2
}
