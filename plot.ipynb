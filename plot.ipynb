{
 "cells": [
  {
   "cell_type": "code",
   "execution_count": 2,
   "metadata": {},
   "outputs": [],
   "source": [
    "#!/usr/bin/env python3\n",
    "\n",
    "import argparse\n",
    "import os\n",
    "import numpy as np\n",
    "\n",
    "import matplotlib as mpl\n",
    "mpl.use('Agg')\n",
    "import matplotlib.pyplot as plt\n",
    "plt.style.use('bmh')"
   ]
  },
  {
   "cell_type": "code",
   "execution_count": 5,
   "metadata": {},
   "outputs": [
    {
     "name": "stderr",
     "output_type": "stream",
     "text": [
      "usage: ipykernel_launcher.py [-h] nBatches expDir\n",
      "ipykernel_launcher.py: error: argument nBatches: invalid int value: '/run/user/1013/jupyter/kernel-3ed2d382-f8a3-4c28-a472-2de3a2bb7436.json'\n"
     ]
    },
    {
     "ename": "SystemExit",
     "evalue": "2",
     "output_type": "error",
     "traceback": [
      "An exception has occurred, use %tb to see the full traceback.\n",
      "\u001b[0;31mSystemExit\u001b[0m\u001b[0;31m:\u001b[0m 2\n"
     ]
    },
    {
     "name": "stderr",
     "output_type": "stream",
     "text": [
      "/home/dxue/miniconda3/lib/python3.6/site-packages/IPython/core/interactiveshell.py:2918: UserWarning: To exit: use 'exit', 'quit', or Ctrl-D.\n",
      "  warn(\"To exit: use 'exit', 'quit', or Ctrl-D.\", stacklevel=1)\n"
     ]
    }
   ],
   "source": [
    "def rolling(N, i, loss, err):\n",
    "    i_ = i[N-1:]\n",
    "    K = np.full(N, 1./N)\n",
    "    loss_ = np.convolve(loss, K, 'valid')\n",
    "    err_ = np.convolve(err, K, 'valid')\n",
    "    return i_, loss_, err_\n",
    "\n",
    "parser = argparse.ArgumentParser()\n",
    "parser.add_argument('nBatches', type=int)\n",
    "parser.add_argument('expDir', type=str)\n",
    "args = parser.parse_args()\n",
    "\n",
    "trainP = os.path.join(args.expDir, 'train.csv')\n",
    "trainData = np.loadtxt(trainP, delimiter=',').reshape(-1, 3)\n",
    "testP = os.path.join(args.expDir, 'test.csv')\n",
    "testData = np.loadtxt(testP, delimiter=',').reshape(-1, 3)\n",
    "\n",
    "N = args.nBatches\n",
    "trainI, trainLoss, trainErr = np.split(trainData, [1,2], axis=1)\n",
    "trainI, trainLoss, trainErr = [x.ravel() for x in\n",
    "                               (trainI, trainLoss, trainErr)]\n",
    "trainI_, trainLoss_, trainErr_ = rolling(N, trainI, trainLoss, trainErr)\n",
    "\n",
    "testI, testLoss, testErr = np.split(testData, [1,2], axis=1)\n",
    "\n",
    "fig, ax = plt.subplots(1, 1, figsize=(6, 5))\n",
    "# plt.plot(trainI, trainLoss, label='Train')\n",
    "plt.plot(trainI_, trainLoss_, label='Train')\n",
    "plt.plot(testI, testLoss, label='Test')\n",
    "plt.xlabel('Epoch')\n",
    "plt.ylabel('Cross-Entropy Loss')\n",
    "plt.legend()\n",
    "ax.set_yscale('log')\n",
    "loss_fname = os.path.join(args.expDir, 'loss.png')\n",
    "plt.savefig(loss_fname)\n",
    "print('Created {}'.format(loss_fname))\n",
    "\n",
    "fig, ax = plt.subplots(1, 1, figsize=(6, 5))\n",
    "# plt.plot(trainI, trainErr, label='Train')\n",
    "plt.plot(trainI_, trainErr_, label='Train')\n",
    "plt.plot(testI, testErr, label='Test')\n",
    "plt.xlabel('Epoch')\n",
    "plt.ylabel('Error')\n",
    "ax.set_yscale('log')\n",
    "plt.legend()\n",
    "err_fname = os.path.join(args.expDir, 'error.png')\n",
    "plt.savefig(err_fname)\n",
    "print('Created {}'.format(err_fname))\n",
    "\n",
    "loss_err_fname = os.path.join(args.expDir, 'loss-error.png')\n",
    "os.system('convert +append {} {} {}'.format(loss_fname, err_fname, loss_err_fname))\n",
    "print('Created {}'.format(loss_err_fname))"
   ]
  },
  {
   "cell_type": "code",
   "execution_count": null,
   "metadata": {},
   "outputs": [],
   "source": []
  }
 ],
 "metadata": {
  "kernelspec": {
   "display_name": "Python 3",
   "language": "python",
   "name": "python3"
  },
  "language_info": {
   "codemirror_mode": {
    "name": "ipython",
    "version": 3
   },
   "file_extension": ".py",
   "mimetype": "text/x-python",
   "name": "python",
   "nbconvert_exporter": "python",
   "pygments_lexer": "ipython3",
   "version": "3.6.4"
  }
 },
 "nbformat": 4,
 "nbformat_minor": 2
}
