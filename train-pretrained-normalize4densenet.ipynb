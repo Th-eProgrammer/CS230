{
 "cells": [
  {
   "cell_type": "code",
   "execution_count": 1,
   "metadata": {},
   "outputs": [],
   "source": [
    "%load_ext autoreload\n",
    "%autoreload 2\n",
    "import argparse\n",
    "import logging\n",
    "import os\n",
    "\n",
    "import numpy as np\n",
    "import torch\n",
    "import torch.optim as optim\n",
    "from torch.autograd import Variable\n",
    "from tqdm import tqdm\n",
    "\n",
    "import utils\n",
    "import model.net_pretrained as net\n",
    "import model.data_loader_normalize4densenet as data_loader\n",
    "from evaluate import evaluate\n",
    "from final_metrics import final_metrics\n",
    "import matplotlib.pyplot as plt\n",
    "\n",
    "\n",
    "\n",
    "\n"
   ]
  },
  {
   "cell_type": "code",
   "execution_count": 2,
   "metadata": {},
   "outputs": [],
   "source": [
    "#data_dir = '/home/data/FETAL/30_slice_data'\n",
    "data_dir = '/home/data/FETAL'\n",
    "#data_dir= '/home/sbakr/data'\n",
    "model_dir = 'experiments/lre_3_pretrainedT_augmentF_batchsize8_normalize4densenetT'\n",
    "restore_file = None \n",
    "metrics_filename=\"metric_data.txt\""
   ]
  },
  {
   "cell_type": "code",
   "execution_count": null,
   "metadata": {},
   "outputs": [],
   "source": [
    "\n"
   ]
  },
  {
   "cell_type": "code",
   "execution_count": 3,
   "metadata": {},
   "outputs": [],
   "source": [
    "def train(model, optimizer, loss_fn, dataloader, metrics, params, epoch_num):\n",
    "    \"\"\"Train the model on `num_steps` batches\n",
    "\n",
    "    Args:\n",
    "        model: (torch.nn.Module) the neural network\n",
    "        optimizer: (torch.optim) optimizer for parameters of model\n",
    "        loss_fn: a function that takes batch_output and batch_labels and computes the loss for the batch\n",
    "        dataloader: (DataLoader) a torch.utils.data.DataLoader object that fetches training data\n",
    "        metrics: (dict) a dictionary of functions that compute a metric using the output and labels of each batch\n",
    "        params: (Params) hyperparameters\n",
    "        num_steps: (int) number of batches to train on, each of size params.batch_size\n",
    "    \"\"\"\n",
    "\n",
    "    # set model to training mode\n",
    "    model.train()\n",
    "\n",
    "    # summary for current training loop and a running average object for loss\n",
    "    summ = []\n",
    "    all_outputs=[]\n",
    "    all_labels=[]\n",
    "    loss_avg = utils.RunningAverage()\n",
    "\n",
    "    # Use tqdm for progress bar\n",
    "    with tqdm(total=len(dataloader)) as t:\n",
    "        for i, (train_batch, labels_batch) in enumerate(dataloader):\n",
    "            # move to GPU if available\n",
    "            if params.cuda:\n",
    "                train_batch, labels_batch = train_batch.cuda(async=True), labels_batch.cuda(async=True)\n",
    "            # convert to torch Variables\n",
    "            train_batch, labels_batch = Variable(train_batch), Variable(labels_batch)\n",
    "\n",
    "            # compute model output and loss\n",
    "            output_batch = model(train_batch)\n",
    "            loss = loss_fn(output_batch, labels_batch)\n",
    "\n",
    "            # clear previous gradients, compute gradients of all variables wrt loss\n",
    "            optimizer.zero_grad()\n",
    "            loss.backward()\n",
    "\n",
    "            # performs updates using calculated gradients\n",
    "            optimizer.step()\n",
    "\n",
    "            \n",
    "            all_labels.append(labels_batch)\n",
    "            all_outputs.append(output_batch)\n",
    "\n",
    "            \n",
    "            # Evaluate summaries only once in a while\n",
    "            \n",
    "            if i % params.save_summary_steps == 0:\n",
    "                #import pdb; pdb.set_trace()\n",
    "                # extract data from torch Variable, move to cpu, convert to numpy arrays\n",
    "                output_batch = output_batch.data.cpu().numpy()\n",
    "                labels_batch = labels_batch.data.cpu().numpy()\n",
    "\n",
    "                # compute all metrics on this batch\n",
    "                summary_batch = {metric:metrics[metric](output_batch, labels_batch)\n",
    "                                 for metric in metrics}\n",
    "                summary_batch['loss'] = loss.data[0]\n",
    "                summ.append(summary_batch)\n",
    "\n",
    "            # update the average loss\n",
    "            loss_avg.update(loss.data[0])\n",
    "\n",
    "            t.set_postfix(loss='{:05.3f}'.format(loss_avg()))\n",
    "            t.update()\n",
    "            \n",
    "    #import pdb; pdb.set_trace()\n",
    "    all_labels=torch.cat(all_labels, 0)\n",
    "    all_outputs=torch.cat(all_outputs, 0)\n",
    "    \n",
    "    \n",
    "    all_predictions = np.argmax((all_outputs.data).cpu().numpy(), axis=1)\n",
    "    all_labels=all_labels.data.cpu().numpy()\n",
    "    \n",
    "    precision, recall, F1, accuracy= final_metrics(all_predictions, all_labels)\n",
    "    metrics_path = os.path.join(model_dir, metrics_filename)\n",
    "    with open(metrics_path, \"a\") as f:\n",
    "        f.write(\"train \" + str(epoch_num) + \" precision \" + str(precision) + \"\\n\")\n",
    "        f.write(\"train \" + str(epoch_num) + \" recall \" + str(recall) + \"\\n\")\n",
    "        f.write(\"train \" + str(epoch_num) + \" F1 \" + str(F1) + \"\\n\")\n",
    "        f.write(\"train \" + str(epoch_num) + \" accuracy \" + str(accuracy) + \"\\n\")\n",
    "        f.write(\"train \" + str(epoch_num) + \" loss \" + str(loss_avg()) + \"\\n\")\n",
    "    \n",
    "    print(\"precision: %.3f ; recall: %.3f ; F1: %.3f ; accuracy: %.3f\" % (precision,recall,F1,accuracy))\n",
    "    \n",
    "    \n",
    "    # compute mean of all metrics in summary\n",
    "    metrics_mean = {metric:np.mean([x[metric] for x in summ]) for metric in summ[0]}\n",
    "    metrics_string = \" ; \".join(\"{}: {:05.3f}\".format(k, v) for k, v in metrics_mean.items())\n",
    "    logging.info(\"- Train metrics: \" + metrics_string)\n",
    "\n"
   ]
  },
  {
   "cell_type": "code",
   "execution_count": 4,
   "metadata": {},
   "outputs": [],
   "source": [
    "def plot_metrics():\n",
    "\n",
    "    train = {\"accuracy\":{}, \"precision\":{}, \"recall\":{}, \"F1\":{}, \"loss\":{}}\n",
    "    eval = {\"accuracy\":{}, \"precision\":{}, \"recall\":{}, \"F1\":{}, \"loss\":{}}\n",
    "\n",
    "    metrics_path = os.path.join(model_dir, metrics_filename)\n",
    "    with open(metrics_path) as f:\n",
    "        for lines in f:\n",
    "            words = lines.split()\n",
    "            if words[0] == \"eval\":\n",
    "                eval[words[2]][words[1]] = words[3]\n",
    "            elif words[0] == \"train\":\n",
    "                train[words[2]][words[1]] = words[3]\n",
    "            else:\n",
    "                print(\"error, a line started with neither train nor eval\")\n",
    "\n",
    "    i = 1\n",
    "    for keys in eval:\n",
    "        x = []\n",
    "        y = []\n",
    "        x2 = []\n",
    "        y2 = []\n",
    "        plt.figure(i)\n",
    "        plt.ylabel(keys)\n",
    "        plt.xlabel(\"Epochs\")\n",
    "        for epochs in eval[keys]:\n",
    "            x.append(int(epochs))\n",
    "            y.append(float(train[keys][epochs]))\n",
    "            x2.append(int(epochs))\n",
    "            y2.append(float(eval[keys][epochs]))\n",
    "        plt.plot(x, y)\n",
    "        plt.plot(x2, y2)\n",
    "        i += 1\n",
    "    plt.show()\n"
   ]
  },
  {
   "cell_type": "code",
   "execution_count": 5,
   "metadata": {},
   "outputs": [],
   "source": [
    "def train_and_evaluate(model, train_dataloader, val_dataloader, optimizer, loss_fn, metrics, params, model_dir,\n",
    "                       restore_file=None):\n",
    "    \"\"\"Train the model and evaluate every epoch.\n",
    "\n",
    "    Args:\n",
    "        model: (torch.nn.Module) the neural network\n",
    "        train_dataloader: (DataLoader) a torch.utils.data.DataLoader object that fetches training data\n",
    "        val_dataloader: (DataLoader) a torch.utils.data.DataLoader object that fetches validation data\n",
    "        optimizer: (torch.optim) optimizer for parameters of model\n",
    "        loss_fn: a function that takes batch_output and batch_labels and computes the loss for the batch\n",
    "        metrics: (dict) a dictionary of functions that compute a metric using the output and labels of each batch\n",
    "        params: (Params) hyperparameters\n",
    "        model_dir: (string) directory containing config, weights and log\n",
    "        restore_file: (string) optional- name of file to restore from (without its extension .pth.tar)\n",
    "    \"\"\"\n",
    "    # reload weights from restore_file if specified\n",
    "    if restore_file is not None:\n",
    "        restore_path = os.path.join(model_dir, restore_file + '.pth.tar')\n",
    "        logging.info(\"Restoring parameters from {}\".format(restore_path))\n",
    "        utils.load_checkpoint(restore_path, model, optimizer)\n",
    "\n",
    "    best_val_acc = 0.0\n",
    "\n",
    "    for epoch in range(params.num_epochs):\n",
    "        # Run one epoch\n",
    "        logging.info(\"Epoch {}/{}\".format(epoch + 1, params.num_epochs))\n",
    "\n",
    "        # compute number of batches in one epoch (one full pass over the training set)\n",
    "        train(model, optimizer, loss_fn, train_dataloader, metrics, params, epoch)\n",
    "\n",
    "        # Evaluate for one epoch on validation set\n",
    "        val_metrics,precision, recall,F1,accuracy,loss = evaluate(model, loss_fn, val_dataloader, metrics, params)\n",
    "        metrics_path = os.path.join(model_dir, metrics_filename)\n",
    "        with open(metrics_path, \"a\") as f:\n",
    "        \n",
    "            f.write(\"eval \" + str(epoch) + \" precision \" + str(precision) + \"\\n\")\n",
    "            f.write(\"eval \" + str(epoch) + \" recall \" + str(recall) + \"\\n\")\n",
    "            f.write(\"eval \" + str(epoch) + \" F1 \" + str(F1) + \"\\n\")\n",
    "            f.write(\"eval \" + str(epoch) + \" accuracy \" + str(accuracy) + \"\\n\")\n",
    "            f.write(\"eval \" + str(epoch) + \" loss \" + str(loss) + \"\\n\")\n",
    "    \n",
    "        val_acc = val_metrics['accuracy']\n",
    "        is_best = val_acc>=best_val_acc\n",
    "        \n",
    "\n",
    "        print(\"precision: %.3f ; recall: %.3f ; F1: %.3f ; accuracy: %.3f\" % (precision,recall,F1,accuracy))\n",
    "        plot_metrics()\n",
    "        # Save weights\n",
    "        utils.save_checkpoint({'epoch': epoch + 1,\n",
    "                               'state_dict': model.state_dict(),\n",
    "                               'optim_dict' : optimizer.state_dict()},\n",
    "                               is_best=is_best,\n",
    "                               checkpoint=model_dir)\n",
    "\n",
    "        # If best_eval, best_save_path\n",
    "        if is_best:\n",
    "            logging.info(\"- Found new best accuracy\")\n",
    "            best_val_acc = val_acc\n",
    "\n",
    "            # Save best val metrics in a json file in the model directory\n",
    "            best_json_path = os.path.join(model_dir, \"metrics_val_best_weights.json\")\n",
    "            utils.save_dict_to_json(val_metrics, best_json_path)\n",
    "\n",
    "        # Save latest val metrics in a json file in the model directory\n",
    "        last_json_path = os.path.join(model_dir, \"metrics_val_last_weights.json\")\n",
    "        utils.save_dict_to_json(val_metrics, last_json_path)\n",
    "\n"
   ]
  },
  {
   "cell_type": "code",
   "execution_count": null,
   "metadata": {
    "scrolled": false
   },
   "outputs": [
    {
     "name": "stderr",
     "output_type": "stream",
     "text": [
      "Loading the datasets...\n",
      "- done.\n",
      "Starting training for 1000 epoch(s)\n",
      "Epoch 1/1000\n",
      "100%|██████████| 352/352 [08:58<00:00,  1.39s/it, loss=0.388]\n",
      "- Train metrics: accuracy: 0.656 ; Confusion_Matrix: 0.656 ; loss: 0.511\n"
     ]
    },
    {
     "name": "stdout",
     "output_type": "stream",
     "text": [
      "precision: 0.091 ; recall: 0.003 ; F1: 0.005 ; accuracy: 0.738\n"
     ]
    },
    {
     "name": "stderr",
     "output_type": "stream",
     "text": [
      "- Eval metrics : accuracy: 0.269 ; Confusion_Matrix: 0.269 ; loss: 6327.424\n"
     ]
    },
    {
     "name": "stdout",
     "output_type": "stream",
     "text": [
      "precision: 0.255 ; recall: 0.987 ; F1: 0.405 ; accuracy: 0.265\n"
     ]
    },
    {
     "data": {
      "image/png": "[encoded data removed]",
      "text/plain": [
       "<Figure size 432x288 with 1 Axes>"
      ]
     },
     "metadata": {},
     "output_type": "display_data"
    },
    {
     "data": {
      "image/png": "[encoded data removed]",
      "text/plain": [
       "<Figure size 432x288 with 1 Axes>"
      ]
     },
     "metadata": {},
     "output_type": "display_data"
    },
    {
     "data": {
      "image/png": "[encoded data removed]",
      "text/plain": [
       "<Figure size 432x288 with 1 Axes>"
      ]
     },
     "metadata": {},
     "output_type": "display_data"
    },
    {
     "data": {
      "image/png": "[encoded data removed]",
      "text/plain": [
       "<Figure size 432x288 with 1 Axes>"
      ]
     },
     "metadata": {},
     "output_type": "display_data"
    },
    {
     "data": {
      "image/png": "[encoded data removed]",
      "text/plain": [
       "<Figure size 432x288 with 1 Axes>"
      ]
     },
     "metadata": {},
     "output_type": "display_data"
    },
    {
     "name": "stdout",
     "output_type": "stream",
     "text": [
      "Checkpoint Directory exists! \n"
     ]
    },
    {
     "name": "stderr",
     "output_type": "stream",
     "text": [
      "- Found new best accuracy\n",
      "Epoch 2/1000\n",
      " 39%|███▉      | 138/352 [03:10<04:32,  1.27s/it, loss=0.384]"
     ]
    }
   ],
   "source": [
    "os.environ[\"CUDA_VISIBLE_DEVICES\"] = \"3\"\n",
    "json_path = os.path.join(model_dir, 'params.json')\n",
    "assert os.path.isfile(json_path), \"No json configuration file found at {}\".format(json_path)\n",
    "params = utils.Params(json_path)\n",
    "\n",
    "# use GPU if available\n",
    "params.cuda = torch.cuda.is_available()\n",
    "\n",
    "# Set the random seed for reproducible experiments\n",
    "torch.manual_seed(230)\n",
    "if params.cuda: torch.cuda.manual_seed(230)\n",
    "\n",
    "# Set the logger\n",
    "utils.set_logger(os.path.join(model_dir, 'train.log'))\n",
    "\n",
    "# Create the input data pipeline\n",
    "logging.info(\"Loading the datasets...\")\n",
    "\n",
    "# fetch dataloaders\n",
    "dataloaders = data_loader.fetch_dataloader(['train', 'val'], data_dir, params)\n",
    "train_dl = dataloaders['train']\n",
    "val_dl = dataloaders['val']\n",
    "\n",
    "logging.info(\"- done.\")\n",
    "\n",
    "# Define the model and optimizer\n",
    "model = net.Net(params).cuda() if params.cuda else net.Net(params)\n",
    "optimizer = optim.Adam(model.parameters(), lr=params.learning_rate)\n",
    "\n",
    "# fetch loss function and metrics\n",
    "loss_fn = net.loss_fn\n",
    "metrics = net.metrics\n",
    "\n",
    "# Train the model\n",
    "logging.info(\"Starting training for {} epoch(s)\".format(params.num_epochs))\n",
    "train_and_evaluate(model, train_dl, val_dl, optimizer, loss_fn, metrics, params, model_dir,\n",
    "                       restore_file)\n"
   ]
  },
  {
   "cell_type": "code",
   "execution_count": null,
   "metadata": {},
   "outputs": [],
   "source": []
  },
  {
   "cell_type": "code",
   "execution_count": null,
   "metadata": {},
   "outputs": [],
   "source": []
  },
  {
   "cell_type": "code",
   "execution_count": null,
   "metadata": {},
   "outputs": [],
   "source": []
  },
  {
   "cell_type": "code",
   "execution_count": null,
   "metadata": {},
   "outputs": [],
   "source": []
  }
 ],
 "metadata": {
  "kernelspec": {
   "display_name": "Python 3",
   "language": "python",
   "name": "python3"
  },
  "language_info": {
   "codemirror_mode": {
    "name": "ipython",
    "version": 3
   },
   "file_extension": ".py",
   "mimetype": "text/x-python",
   "name": "python",
   "nbconvert_exporter": "python",
   "pygments_lexer": "ipython3",
   "version": "3.6.3"
  }
 },
 "nbformat": 4,
 "nbformat_minor": 2
}
