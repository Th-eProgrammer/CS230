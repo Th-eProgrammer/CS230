{
 "cells": [
  {
   "cell_type": "code",
   "execution_count": 50,
   "metadata": {},
   "outputs": [],
   "source": [
    "%matplotlib inline\n",
    "\n",
    "import sys\n",
    "import os\n",
    "import random\n",
    "import os\n",
    "import numpy as np\n",
    "\n",
    "import matplotlib.mlab as mlab\n",
    "import matplotlib.pyplot as plt\n",
    "from collections import Counter \n",
    "\n",
    "from PIL import Image\n",
    "from tqdm import tqdm"
   ]
  },
  {
   "cell_type": "code",
   "execution_count": 51,
   "metadata": {},
   "outputs": [],
   "source": [
    "# directory pointing to all .npy files\n",
    "input_directory = '../../data/FETAL/processed'\n",
    "\n",
    "assert os.path.isdir(input_directory), \"Couldn't find the dataset at {}\".format(input_directory)"
   ]
  },
  {
   "cell_type": "code",
   "execution_count": 48,
   "metadata": {},
   "outputs": [
    {
     "name": "stdout",
     "output_type": "stream",
     "text": [
      "Found 4633 .npy files\n"
     ]
    }
   ],
   "source": [
    "# Get the filenames in the input directory\n",
    "filenames = os.listdir(input_directory)\n",
    "filenames = [os.path.join(input_directory, f) for f in filenames if f.endswith('.npy')]\n",
    "\n",
    "print(\"Found %s .npy files\" % len(filenames))"
   ]
  },
  {
   "cell_type": "code",
   "execution_count": 49,
   "metadata": {},
   "outputs": [
    {
     "name": "stdout",
     "output_type": "stream",
     "text": [
      "Found Non-Square Files:\n",
      "../../data/FETAL/processed/0_1945.npy Dimension: (13, 66)\n",
      "../../data/FETAL/processed/0_1193.npy Dimension: (25, 86)\n",
      "../../data/FETAL/processed/0_0349.npy Dimension: (49, 86)\n",
      "../../data/FETAL/processed/0_1753.npy Dimension: (61, 66)\n",
      "../../data/FETAL/processed/0_3421.npy Dimension: (61, 86)\n",
      "../../data/FETAL/processed/0_1346.npy Dimension: (49, 86)\n",
      "../../data/FETAL/processed/0_1960.npy Dimension: (13, 66)\n",
      "../../data/FETAL/processed/0_1449.npy Dimension: (25, 86)\n",
      "../../data/FETAL/processed/0_2753.npy Dimension: (25, 66)\n",
      "../../data/FETAL/processed/0_1200.npy Dimension: (61, 86)\n",
      "../../data/FETAL/processed/0_2571.npy Dimension: (13, 66)\n",
      "../../data/FETAL/processed/0_0651.npy Dimension: (25, 86)\n"
     ]
    },
    {
     "data": {
      "image/png": "[encoded data removed]",
      "text/plain": [
       "<matplotlib.figure.Figure at 0x7efc8a443828>"
      ]
     },
     "metadata": {},
     "output_type": "display_data"
    },
    {
     "name": "stdout",
     "output_type": "stream",
     "text": [
      "Most Frequent Values:\n",
      "30 (with Frequency: 289)\n",
      "22 (with Frequency: 264)\n",
      "20 (with Frequency: 224)\n",
      "24 (with Frequency: 211)\n",
      "18 (with Frequency: 203)\n",
      "\n",
      "Mean: 49.98717948717949\n",
      "Standard Deviation: 46.40719815678012\n",
      "\n",
      "25th Percentile: 20.25\n",
      "50th Percentile: 39.5\n",
      "75th Percentile: 58.75\n",
      "90th Percentile: 114.39999999999998\n",
      "95th Percentile: 149.19999999999993\n",
      "99th Percentile: 214.99000000000007\n"
     ]
    },
    {
     "data": {
      "image/png": "[encoded data removed]",
      "text/plain": [
       "<matplotlib.figure.Figure at 0x7efc8a43ddd8>"
      ]
     },
     "metadata": {},
     "output_type": "display_data"
    },
    {
     "name": "stdout",
     "output_type": "stream",
     "text": [
      "Most Frequent Values:\n",
      "512 (with Frequency: 4184)\n",
      "256 (with Frequency: 429)\n",
      "128 (with Frequency: 7)\n",
      "64 (with Frequency: 1)\n",
      "\n",
      "Mean: 240.0\n",
      "Standard Deviation: 171.58088471621772\n",
      "\n",
      "25th Percentile: 112.0\n",
      "50th Percentile: 192.0\n",
      "75th Percentile: 320.0\n",
      "90th Percentile: 435.20000000000005\n",
      "95th Percentile: 473.5999999999999\n",
      "99th Percentile: 504.31999999999994\n"
     ]
    }
   ],
   "source": [
    "def create_histogram_from_counter(counter, name, width=1.0, print_stats=True):\n",
    "    labels, values = zip(*counter.items())\n",
    "    \n",
    "    # Plot Histogram\n",
    "    plt.bar(labels, values, width=width)\n",
    "    plt.title(\"%s Histogram\" % name)\n",
    "    plt.xlabel(name)\n",
    "    plt.ylabel(\"Frequency\")\n",
    "    plt.show()\n",
    "    \n",
    "    # Print statistics\n",
    "    if print_stats:\n",
    "        print_statistics_from_counter(counter)\n",
    "        \n",
    "def print_statistics_from_counter(counter):\n",
    "    modes = counter.most_common(5)\n",
    "    mean = np.mean(list(counter.keys()))\n",
    "    std = np.std(list(counter.keys()))\n",
    "    first_perc = np.percentile(list(counter.keys()), 25)\n",
    "    second_perc = np.percentile(list(counter.keys()), 50)\n",
    "    third_perc = np.percentile(list(counter.keys()), 75)\n",
    "    top10_perc = np.percentile(list(counter.keys()), 90)\n",
    "    top5_perc = np.percentile(list(counter.keys()), 95)\n",
    "    top1_perc = np.percentile(list(counter.keys()), 99)\n",
    "    # var = np.var(counter.keys(), dtype=np.float64)\n",
    "    \n",
    "    print(\"Most Frequent Values:\")\n",
    "    for mode in modes:\n",
    "        print(\"%s (with Frequency: %s)\" % (mode[0], mode[1]))\n",
    "    print(\"\")\n",
    "    print(\"Mean: %s\" % mean)\n",
    "    print(\"Standard Deviation: %s\" % std)\n",
    "    print(\"\")\n",
    "    print(\"25th Percentile: %s\" % first_perc)\n",
    "    print(\"50th Percentile: %s\" % second_perc)\n",
    "    print(\"75th Percentile: %s\" % third_perc)\n",
    "    print(\"90th Percentile: %s\" % top10_perc)\n",
    "    print(\"95th Percentile: %s\" % top5_perc)\n",
    "    print(\"99th Percentile: %s\" % top1_perc)\n",
    "    # print(\"Variance: %s\" % var)\n",
    "    \n",
    "num_slices_counter = []\n",
    "side_dim_counter = []\n",
    "non_square_files = []\n",
    "for filename in filenames:\n",
    "    raw_matrix = np.load(filename)\n",
    "    z_slices, width, height = raw_matrix.shape\n",
    "    \n",
    "    # Found a non-square shape\n",
    "    if width != height:\n",
    "        non_square_stat = filename + \" Dimension: (%s, %s)\" % (width, height)\n",
    "        non_square_files.append(non_square_stat) \n",
    "    else:\n",
    "        side_dim_counter.append(width)\n",
    "    \n",
    "    # Add the number of slices\n",
    "    num_slices_counter.append(z_slices)\n",
    "\n",
    "# Print out non-square files, one per line\n",
    "print(\"Found Non-Square Files:\")\n",
    "print(\"\\n\".join(non_square_files))\n",
    "\n",
    "# Print Histogram of Number of Slices\n",
    "create_histogram_from_counter(Counter(num_slices_counter), \"Number of Slices\", print_stats=True)\n",
    "create_histogram_from_counter(Counter(side_dim_counter), \"Dimension Size\", print_stats=True)"
   ]
  },
  {
   "cell_type": "code",
   "execution_count": null,
   "metadata": {},
   "outputs": [],
   "source": []
  },
  {
   "cell_type": "code",
   "execution_count": null,
   "metadata": {},
   "outputs": [],
   "source": []
  }
 ],
 "metadata": {
  "kernelspec": {
   "display_name": "Python 3",
   "language": "python",
   "name": "python3"
  },
  "language_info": {
   "codemirror_mode": {
    "name": "ipython",
    "version": 3
   },
   "file_extension": ".py",
   "mimetype": "text/x-python",
   "name": "python",
   "nbconvert_exporter": "python",
   "pygments_lexer": "ipython3",
   "version": "3.6.4"
  }
 },
 "nbformat": 4,
 "nbformat_minor": 2
}
