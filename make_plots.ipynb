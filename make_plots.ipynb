{
 "cells": [
  {
   "cell_type": "code",
   "execution_count": null,
   "metadata": {
    "collapsed": true
   },
   "outputs": [],
   "source": [
    "import matplotlib.pyplot as plt\n",
    "\n",
    "\n",
    "train = {\"accuracy\":{}, \"precision\":{}, \"recall\":{}, \"F1\":{}, \"loss\":{}}\n",
    "eval = {\"accuracy\":{}, \"precision\":{}, \"recall\":{}, \"F1\":{}, \"loss\":{}}\n",
    "\n",
    "\n",
    "with open(\"metric_data.txt\") as f:\n",
    "    for lines in f:\n",
    "        words = lines.split()\n",
    "        if words[0] == \"eval\":\n",
    "            eval[words[2]][words[1]] = words[3]\n",
    "        elif words[0] == \"train\":\n",
    "            train[words[2]][words[1]] = words[3]\n",
    "        else:\n",
    "            print(\"error, a line started with neither train nor eval\")\n",
    "\n",
    "i = 1\n",
    "for keys in eval:\n",
    "    x = []\n",
    "    y = []\n",
    "    x2 = []\n",
    "    y2 = []\n",
    "    plt.figure(i)\n",
    "    plt.ylabel(keys)\n",
    "    plt.xlabel(\"Epochs\")\n",
    "    for epochs in eval[keys]:\n",
    "        try:\n",
    "            train[keys][epochs]\n",
    "            eval[keys][epochs]\n",
    "            x.append(int(epochs))\n",
    "            y.append(float(train[keys][epochs]))\n",
    "            x2.append(int(epochs))\n",
    "            y2.append(float(eval[keys][epochs]))\n",
    "        except:\n",
    "            print(\"some kind of key error\")\n",
    "    plt.plot(x, y)\n",
    "    plt.plot(x2, y2)\n",
    "    plt.legend(['Train', 'Eval'])\n",
    "    i += 1\n",
    "plt.show()\n",
    "\n"
   ]
  }
 ],
 "metadata": {
  "kernelspec": {
   "display_name": "Python 3",
   "language": "python",
   "name": "python3"
  },
  "language_info": {
   "codemirror_mode": {
    "name": "ipython",
    "version": 3
   },
   "file_extension": ".py",
   "mimetype": "text/x-python",
   "name": "python",
   "nbconvert_exporter": "python",
   "pygments_lexer": "ipython3",
   "version": "3.6.3"
  }
 },
 "nbformat": 4,
 "nbformat_minor": 2
}
